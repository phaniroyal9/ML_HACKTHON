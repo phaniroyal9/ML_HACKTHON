{
  "nbformat": 4,
  "nbformat_minor": 0,
  "metadata": {
    "kernelspec": {
      "display_name": "Python 3",
      "language": "python",
      "name": "python3"
    },
    "language_info": {
      "codemirror_mode": {
        "name": "ipython",
        "version": 3
      },
      "file_extension": ".py",
      "mimetype": "text/x-python",
      "name": "python",
      "nbconvert_exporter": "python",
      "pygments_lexer": "ipython3",
      "version": "3.8.5"
    },
    "colab": {
      "name": "ML_HACKTHON",
      "provenance": [],
      "collapsed_sections": [
        "ZEI6QxPqbC5D",
        "HHvBuXBMbC5G",
        "GvNKoLd2bC5L",
        "bKT11lZ2bC5M",
        "9aq48Dj-bC5O",
        "cfCQyTc8bC5P",
        "wOQYT3LVbC5S",
        "M6ahWdMebC5U",
        "3XOB3f2LbC5V",
        "fgrv_QJPbC5Y"
      ]
    }
  },
  "cells": [
    {
      "cell_type": "markdown",
      "metadata": {
        "id": "fJcAhPoAbC4s"
      },
      "source": [
        "# ML HACKTHON"
      ]
    },
    {
      "cell_type": "markdown",
      "metadata": {
        "id": "MgMIYdg4bC4w"
      },
      "source": [
        "# Looking into the data"
      ]
    },
    {
      "cell_type": "code",
      "metadata": {
        "id": "6zLKeJFmbC4y"
      },
      "source": [
        "#Importing libraries\n",
        "import pandas as pd\n",
        "import numpy as np\n",
        "import seaborn as sns"
      ],
      "execution_count": null,
      "outputs": []
    },
    {
      "cell_type": "code",
      "metadata": {
        "id": "RUSqW6i0bC4z"
      },
      "source": [
        "df=pd.read_csv('data.csv')"
      ],
      "execution_count": null,
      "outputs": []
    },
    {
      "cell_type": "code",
      "metadata": {
        "colab": {
          "base_uri": "https://localhost:8080/"
        },
        "id": "f4TSHKQQbC40",
        "outputId": "30244f89-0563-4cfb-83c6-92596b607530"
      },
      "source": [
        "df.shape"
      ],
      "execution_count": null,
      "outputs": [
        {
          "output_type": "execute_result",
          "data": {
            "text/plain": [
              "(2227, 3)"
            ]
          },
          "metadata": {
            "tags": []
          },
          "execution_count": 4
        }
      ]
    },
    {
      "cell_type": "code",
      "metadata": {
        "colab": {
          "base_uri": "https://localhost:8080/",
          "height": 202
        },
        "id": "RfzhAjTqbC42",
        "outputId": "f141bf67-afe6-4877-9b74-9d46beaa64e2"
      },
      "source": [
        "#Looking into the top 5 rows of train file\n",
        "df.head()"
      ],
      "execution_count": null,
      "outputs": [
        {
          "output_type": "execute_result",
          "data": {
            "text/html": [
              "<div>\n",
              "<style scoped>\n",
              "    .dataframe tbody tr th:only-of-type {\n",
              "        vertical-align: middle;\n",
              "    }\n",
              "\n",
              "    .dataframe tbody tr th {\n",
              "        vertical-align: top;\n",
              "    }\n",
              "\n",
              "    .dataframe thead th {\n",
              "        text-align: right;\n",
              "    }\n",
              "</style>\n",
              "<table border=\"1\" class=\"dataframe\">\n",
              "  <thead>\n",
              "    <tr style=\"text-align: right;\">\n",
              "      <th></th>\n",
              "      <th>x1</th>\n",
              "      <th>x2</th>\n",
              "      <th>y</th>\n",
              "    </tr>\n",
              "  </thead>\n",
              "  <tbody>\n",
              "    <tr>\n",
              "      <th>0</th>\n",
              "      <td>-119.366669</td>\n",
              "      <td>115.000000</td>\n",
              "      <td>1</td>\n",
              "    </tr>\n",
              "    <tr>\n",
              "      <th>1</th>\n",
              "      <td>-101.108044</td>\n",
              "      <td>97.777159</td>\n",
              "      <td>1</td>\n",
              "    </tr>\n",
              "    <tr>\n",
              "      <th>2</th>\n",
              "      <td>-130.278658</td>\n",
              "      <td>106.767654</td>\n",
              "      <td>1</td>\n",
              "    </tr>\n",
              "    <tr>\n",
              "      <th>3</th>\n",
              "      <td>-114.703415</td>\n",
              "      <td>101.195477</td>\n",
              "      <td>1</td>\n",
              "    </tr>\n",
              "    <tr>\n",
              "      <th>4</th>\n",
              "      <td>-119.366669</td>\n",
              "      <td>115.000000</td>\n",
              "      <td>1</td>\n",
              "    </tr>\n",
              "  </tbody>\n",
              "</table>\n",
              "</div>"
            ],
            "text/plain": [
              "           x1          x2  y\n",
              "0 -119.366669  115.000000  1\n",
              "1 -101.108044   97.777159  1\n",
              "2 -130.278658  106.767654  1\n",
              "3 -114.703415  101.195477  1\n",
              "4 -119.366669  115.000000  1"
            ]
          },
          "metadata": {
            "tags": []
          },
          "execution_count": 5
        }
      ]
    },
    {
      "cell_type": "code",
      "metadata": {
        "colab": {
          "base_uri": "https://localhost:8080/",
          "height": 294
        },
        "id": "-44twh7AbC43",
        "outputId": "08d00b69-0788-4c32-8d0e-d28483ea0ae6"
      },
      "source": [
        "df.describe()"
      ],
      "execution_count": null,
      "outputs": [
        {
          "output_type": "execute_result",
          "data": {
            "text/html": [
              "<div>\n",
              "<style scoped>\n",
              "    .dataframe tbody tr th:only-of-type {\n",
              "        vertical-align: middle;\n",
              "    }\n",
              "\n",
              "    .dataframe tbody tr th {\n",
              "        vertical-align: top;\n",
              "    }\n",
              "\n",
              "    .dataframe thead th {\n",
              "        text-align: right;\n",
              "    }\n",
              "</style>\n",
              "<table border=\"1\" class=\"dataframe\">\n",
              "  <thead>\n",
              "    <tr style=\"text-align: right;\">\n",
              "      <th></th>\n",
              "      <th>x1</th>\n",
              "      <th>x2</th>\n",
              "      <th>y</th>\n",
              "    </tr>\n",
              "  </thead>\n",
              "  <tbody>\n",
              "    <tr>\n",
              "      <th>count</th>\n",
              "      <td>2222.000000</td>\n",
              "      <td>2.224000e+03</td>\n",
              "      <td>2227.000000</td>\n",
              "    </tr>\n",
              "    <tr>\n",
              "      <th>mean</th>\n",
              "      <td>-4.818766</td>\n",
              "      <td>8.947626e+04</td>\n",
              "      <td>0.442299</td>\n",
              "    </tr>\n",
              "    <tr>\n",
              "      <th>std</th>\n",
              "      <td>74.939909</td>\n",
              "      <td>2.983323e+06</td>\n",
              "      <td>0.496771</td>\n",
              "    </tr>\n",
              "    <tr>\n",
              "      <th>min</th>\n",
              "      <td>-134.369160</td>\n",
              "      <td>-1.348761e+02</td>\n",
              "      <td>0.000000</td>\n",
              "    </tr>\n",
              "    <tr>\n",
              "      <th>25%</th>\n",
              "      <td>-71.757030</td>\n",
              "      <td>-8.012983e+01</td>\n",
              "      <td>0.000000</td>\n",
              "    </tr>\n",
              "    <tr>\n",
              "      <th>50%</th>\n",
              "      <td>-9.836555</td>\n",
              "      <td>-1.046151e+00</td>\n",
              "      <td>0.000000</td>\n",
              "    </tr>\n",
              "    <tr>\n",
              "      <th>75%</th>\n",
              "      <td>59.813962</td>\n",
              "      <td>6.389086e+01</td>\n",
              "      <td>1.000000</td>\n",
              "    </tr>\n",
              "    <tr>\n",
              "      <th>max</th>\n",
              "      <td>134.508687</td>\n",
              "      <td>1.000000e+08</td>\n",
              "      <td>1.000000</td>\n",
              "    </tr>\n",
              "  </tbody>\n",
              "</table>\n",
              "</div>"
            ],
            "text/plain": [
              "                x1            x2            y\n",
              "count  2222.000000  2.224000e+03  2227.000000\n",
              "mean     -4.818766  8.947626e+04     0.442299\n",
              "std      74.939909  2.983323e+06     0.496771\n",
              "min    -134.369160 -1.348761e+02     0.000000\n",
              "25%     -71.757030 -8.012983e+01     0.000000\n",
              "50%      -9.836555 -1.046151e+00     0.000000\n",
              "75%      59.813962  6.389086e+01     1.000000\n",
              "max     134.508687  1.000000e+08     1.000000"
            ]
          },
          "metadata": {
            "tags": []
          },
          "execution_count": 6
        }
      ]
    },
    {
      "cell_type": "code",
      "metadata": {
        "colab": {
          "base_uri": "https://localhost:8080/",
          "height": 391
        },
        "id": "MWa8sunsbC44",
        "outputId": "1f138ab4-d8f4-44fd-d070-a88632df713d"
      },
      "source": [
        "sns.pairplot(df, hue= \"y\")"
      ],
      "execution_count": null,
      "outputs": [
        {
          "output_type": "execute_result",
          "data": {
            "text/plain": [
              "<seaborn.axisgrid.PairGrid at 0x7fa95b8f9d10>"
            ]
          },
          "metadata": {
            "tags": []
          },
          "execution_count": 7
        },
        {
          "output_type": "display_data",
          "data": {
            "image/png": "[encoded data removed]",
            "text/plain": [
              "<Figure size 402.375x360 with 6 Axes>"
            ]
          },
          "metadata": {
            "tags": [],
            "needs_background": "light"
          }
        }
      ]
    },
    {
      "cell_type": "code",
      "metadata": {
        "colab": {
          "base_uri": "https://localhost:8080/"
        },
        "id": "jsft_zTsbC45",
        "outputId": "97ff0c88-fa01-4053-f2c3-725f03bfa830"
      },
      "source": [
        "df.isnull().sum()"
      ],
      "execution_count": null,
      "outputs": [
        {
          "output_type": "execute_result",
          "data": {
            "text/plain": [
              "x1    5\n",
              "x2    3\n",
              "y     0\n",
              "dtype: int64"
            ]
          },
          "metadata": {
            "tags": []
          },
          "execution_count": 8
        }
      ]
    },
    {
      "cell_type": "markdown",
      "metadata": {
        "id": "CGxfwnrHbC46"
      },
      "source": [
        "# Filling missing values with 'Zero' imputation"
      ]
    },
    {
      "cell_type": "code",
      "metadata": {
        "id": "82bN0MpnbC47"
      },
      "source": [
        "df['x1']=df['x1'].fillna(0)"
      ],
      "execution_count": null,
      "outputs": []
    },
    {
      "cell_type": "code",
      "metadata": {
        "id": "P7VJEawAbC47"
      },
      "source": [
        "df['x2']=df['x2'].fillna(0)"
      ],
      "execution_count": null,
      "outputs": []
    },
    {
      "cell_type": "code",
      "metadata": {
        "colab": {
          "base_uri": "https://localhost:8080/"
        },
        "id": "duSeO0HybC48",
        "outputId": "d22033fa-6ff7-4586-ba55-23eb7f6a8ef4"
      },
      "source": [
        "df.columns"
      ],
      "execution_count": null,
      "outputs": [
        {
          "output_type": "execute_result",
          "data": {
            "text/plain": [
              "Index(['x1', 'x2', 'y'], dtype='object')"
            ]
          },
          "metadata": {
            "tags": []
          },
          "execution_count": 11
        }
      ]
    },
    {
      "cell_type": "markdown",
      "metadata": {
        "id": "22jgYHZ3bC49"
      },
      "source": [
        "# Outlier treatment- 'zero' imputation"
      ]
    },
    {
      "cell_type": "code",
      "metadata": {
        "colab": {
          "base_uri": "https://localhost:8080/",
          "height": 297
        },
        "id": "NCiq4hV5bC49",
        "outputId": "694689f4-66ba-4808-d04d-7fe508cd48c4"
      },
      "source": [
        "sns.boxplot(x='x1',data=df)"
      ],
      "execution_count": null,
      "outputs": [
        {
          "output_type": "execute_result",
          "data": {
            "text/plain": [
              "<matplotlib.axes._subplots.AxesSubplot at 0x7fa95fd5efd0>"
            ]
          },
          "metadata": {
            "tags": []
          },
          "execution_count": 12
        },
        {
          "output_type": "display_data",
          "data": {
            "image/png": "[encoded data removed]",
            "text/plain": [
              "<Figure size 432x288 with 1 Axes>"
            ]
          },
          "metadata": {
            "tags": [],
            "needs_background": "light"
          }
        }
      ]
    },
    {
      "cell_type": "code",
      "metadata": {
        "colab": {
          "base_uri": "https://localhost:8080/",
          "height": 297
        },
        "id": "k0egl8oIbC4-",
        "outputId": "83b79ef0-b6ff-4e27-97de-f9e1fdcc1af8"
      },
      "source": [
        "sns.boxplot(x='x2',data=df)"
      ],
      "execution_count": null,
      "outputs": [
        {
          "output_type": "execute_result",
          "data": {
            "text/plain": [
              "<matplotlib.axes._subplots.AxesSubplot at 0x7fa95034f7d0>"
            ]
          },
          "metadata": {
            "tags": []
          },
          "execution_count": 13
        },
        {
          "output_type": "display_data",
          "data": {
            "image/png": "[encoded data removed]",
            "text/plain": [
              "<Figure size 432x288 with 1 Axes>"
            ]
          },
          "metadata": {
            "tags": [],
            "needs_background": "light"
          }
        }
      ]
    },
    {
      "cell_type": "code",
      "metadata": {
        "colab": {
          "base_uri": "https://localhost:8080/"
        },
        "id": "doMp8PnnbC4_",
        "outputId": "a1d23fa2-db60-415e-bda9-474787bf0f6d"
      },
      "source": [
        "import numpy as np\n",
        "out=[]\n",
        "def iqr_outliers(df):\n",
        "    q1 = df.quantile(0.25)\n",
        "    q3 = df.quantile(0.75)\n",
        "    iqr = q3-q1\n",
        "    Lower_tail = q1 - 1.5 * iqr\n",
        "    Upper_tail = q3 + 1.5 * iqr\n",
        "    for i in df:\n",
        "        if i > Upper_tail or i < Lower_tail:\n",
        "            out.append(i)\n",
        "    print(\"Outliers:\",out)\n",
        "iqr_outliers(df['x1'])"
      ],
      "execution_count": null,
      "outputs": [
        {
          "output_type": "stream",
          "text": [
            "Outliers: []\n"
          ],
          "name": "stdout"
        }
      ]
    },
    {
      "cell_type": "code",
      "metadata": {
        "colab": {
          "base_uri": "https://localhost:8080/"
        },
        "id": "8_7qXQ_2bC5A",
        "outputId": "42b54bd8-a49b-4a97-ab2b-24287c30a43a"
      },
      "source": [
        "import numpy as np\n",
        "out=[]\n",
        "def iqr_outliers(df):\n",
        "    q1 = df.quantile(0.25)\n",
        "    q3 = df.quantile(0.75)\n",
        "    iqr = q3-q1\n",
        "    Lower_tail = q1 - 1.5 * iqr\n",
        "    Upper_tail = q3 + 1.5 * iqr\n",
        "    for i in df:\n",
        "        if i > Upper_tail or i < Lower_tail:\n",
        "            out.append(i)\n",
        "    print(\"Outliers:\",out)\n",
        "iqr_outliers(df['x2'])"
      ],
      "execution_count": null,
      "outputs": [
        {
          "output_type": "stream",
          "text": [
            "Outliers: [99009998.0, 99999999.0]\n"
          ],
          "name": "stdout"
        }
      ]
    },
    {
      "cell_type": "code",
      "metadata": {
        "id": "u7FA3ZsqbC5B"
      },
      "source": [
        "#Zero value imputation\n",
        "q1 = df['x2'].quantile(0.25)\n",
        "q3 = df['x2'].quantile(0.75)\n",
        "iqr = q3-q1\n",
        "Lower_tail = q1 - 1.5 * iqr\n",
        "Upper_tail = q3 + 1.5 * iqr\n",
        "for i in df['x2']:\n",
        "    if i > Upper_tail or i < Lower_tail:\n",
        "            df['x2'] = df['x2'].replace(i, 0)"
      ],
      "execution_count": null,
      "outputs": []
    },
    {
      "cell_type": "code",
      "metadata": {
        "colab": {
          "base_uri": "https://localhost:8080/",
          "height": 351
        },
        "id": "6Kk_koI9bC5B",
        "outputId": "8df80bf5-a617-4c14-d197-f1b741153fab"
      },
      "source": [
        "sns.boxplot(df['x2'])"
      ],
      "execution_count": null,
      "outputs": [
        {
          "output_type": "stream",
          "text": [
            "/usr/local/lib/python3.7/dist-packages/seaborn/_decorators.py:43: FutureWarning: Pass the following variable as a keyword arg: x. From version 0.12, the only valid positional argument will be `data`, and passing other arguments without an explicit keyword will result in an error or misinterpretation.\n",
            "  FutureWarning\n"
          ],
          "name": "stderr"
        },
        {
          "output_type": "execute_result",
          "data": {
            "text/plain": [
              "<matplotlib.axes._subplots.AxesSubplot at 0x7fa94fe70090>"
            ]
          },
          "metadata": {
            "tags": []
          },
          "execution_count": 17
        },
        {
          "output_type": "display_data",
          "data": {
            "image/png": "[encoded data removed]",
            "text/plain": [
              "<Figure size 432x288 with 1 Axes>"
            ]
          },
          "metadata": {
            "tags": [],
            "needs_background": "light"
          }
        }
      ]
    },
    {
      "cell_type": "code",
      "metadata": {
        "colab": {
          "base_uri": "https://localhost:8080/"
        },
        "id": "maqt6QBQbC5C",
        "outputId": "ba9fae36-11f5-4d55-f152-c810e63ba23a"
      },
      "source": [
        "df['y'].value_counts()"
      ],
      "execution_count": null,
      "outputs": [
        {
          "output_type": "execute_result",
          "data": {
            "text/plain": [
              "0    1242\n",
              "1     985\n",
              "Name: y, dtype: int64"
            ]
          },
          "metadata": {
            "tags": []
          },
          "execution_count": 18
        }
      ]
    },
    {
      "cell_type": "markdown",
      "metadata": {
        "id": "ZEI6QxPqbC5D"
      },
      "source": [
        "# Train-Test split"
      ]
    },
    {
      "cell_type": "code",
      "metadata": {
        "id": "Bp6gQ0tLbC5D"
      },
      "source": [
        "X = df.drop('y',axis = 1)#X=data"
      ],
      "execution_count": null,
      "outputs": []
    },
    {
      "cell_type": "code",
      "metadata": {
        "id": "q8HkUzb_bC5E"
      },
      "source": [
        "y= df['y']"
      ],
      "execution_count": null,
      "outputs": []
    },
    {
      "cell_type": "code",
      "metadata": {
        "colab": {
          "base_uri": "https://localhost:8080/"
        },
        "id": "B8Dvpao5bC5E",
        "outputId": "8f1673c0-d367-4a5c-a356-6d38c7d32e3c"
      },
      "source": [
        "# Data-preprocessing: Standardizing the data\n",
        "from sklearn.preprocessing import StandardScaler\n",
        "standardized_data = StandardScaler().fit_transform(X)\n",
        "print(standardized_data.shape)"
      ],
      "execution_count": null,
      "outputs": [
        {
          "output_type": "stream",
          "text": [
            "(2227, 2)\n"
          ],
          "name": "stdout"
        }
      ]
    },
    {
      "cell_type": "code",
      "metadata": {
        "id": "NF4bPNTybC5F"
      },
      "source": [
        "from sklearn.model_selection import train_test_split"
      ],
      "execution_count": null,
      "outputs": []
    },
    {
      "cell_type": "code",
      "metadata": {
        "id": "m0xdHxF2bC5F"
      },
      "source": [
        "x_train,x_test,y_train,y_test=train_test_split(standardized_data,y,train_size=0.8,random_state=0)"
      ],
      "execution_count": null,
      "outputs": []
    },
    {
      "cell_type": "code",
      "metadata": {
        "colab": {
          "base_uri": "https://localhost:8080/"
        },
        "id": "6yi3bSnNbC5G",
        "outputId": "f0b44f3c-c358-47be-a63c-ca8e5f12833e"
      },
      "source": [
        "print(x_train.shape,y_train.shape)\n",
        "print(x_test.shape,y_test.shape)"
      ],
      "execution_count": null,
      "outputs": [
        {
          "output_type": "stream",
          "text": [
            "(1781, 2) (1781,)\n",
            "(446, 2) (446,)\n"
          ],
          "name": "stdout"
        }
      ]
    },
    {
      "cell_type": "markdown",
      "metadata": {
        "id": "HHvBuXBMbC5G"
      },
      "source": [
        "# Checking the Logistic model"
      ]
    },
    {
      "cell_type": "markdown",
      "metadata": {
        "id": "zDPOwJoIbC5H"
      },
      "source": [
        "<h5>Hyper-parameter tuning</h5>"
      ]
    },
    {
      "cell_type": "code",
      "metadata": {
        "id": "UaOXhea3bC5H"
      },
      "source": [
        "# Necessary imports \n",
        "from scipy.stats import randint \n",
        "from sklearn.linear_model import LogisticRegression\n",
        "from sklearn.metrics import classification_report\n",
        "from sklearn.model_selection import RandomizedSearchCV"
      ],
      "execution_count": null,
      "outputs": []
    },
    {
      "cell_type": "code",
      "metadata": {
        "id": "LOQU8z_JbC5I"
      },
      "source": [
        "import warnings\n",
        "warnings.filterwarnings('ignore')"
      ],
      "execution_count": null,
      "outputs": []
    },
    {
      "cell_type": "code",
      "metadata": {
        "id": "dDkUM_ZKbC5I",
        "outputId": "6c549498-f406-4bb2-87c4-bbdd6a242529"
      },
      "source": [
        "tuned_parameters = [{'C':[1, 2, 3, 4, 5,6,7,8,9], 'penalty':['l2','l1','l3']}]\n",
        "acc = ['accuracy','precision','recall']                    \n",
        "for i in acc:                   \n",
        "    clf = RandomizedSearchCV( LogisticRegression(), tuned_parameters, scoring='{}'.format(i))\n",
        "    clf.fit(x_train, y_train)\n",
        "    print(\"Best parameters set found on train set:\")\n",
        "    print('for {}'.format(i))\n",
        "    print(clf.best_params_)\n",
        "    print(clf.best_estimator_)\n",
        "    print(clf.score(x_test, y_test))"
      ],
      "execution_count": null,
      "outputs": [
        {
          "output_type": "stream",
          "text": [
            "Best parameters set found on train set:\n",
            "for accuracy\n",
            "{'penalty': 'l2', 'C': 4}\n",
            "LogisticRegression(C=4)\n",
            "0.7331838565022422\n",
            "Best parameters set found on train set:\n",
            "for precision\n",
            "{'penalty': 'l2', 'C': 8}\n",
            "LogisticRegression(C=8)\n",
            "0.967032967032967\n",
            "Best parameters set found on train set:\n",
            "for recall\n",
            "{'penalty': 'l2', 'C': 9}\n",
            "LogisticRegression(C=9)\n",
            "0.43137254901960786\n"
          ],
          "name": "stdout"
        }
      ]
    },
    {
      "cell_type": "markdown",
      "metadata": {
        "id": "LINiDyYRbC5J"
      },
      "source": [
        "<h5>Training the model</h5>"
      ]
    },
    {
      "cell_type": "code",
      "metadata": {
        "id": "V2xymvPibC5K",
        "outputId": "223c3317-71a4-4bdd-e92a-9c8a37e08915"
      },
      "source": [
        "classifier = LogisticRegression(penalty='l2',C=8)\n",
        "classifier.fit(x_train, y_train)"
      ],
      "execution_count": null,
      "outputs": [
        {
          "output_type": "execute_result",
          "data": {
            "text/plain": [
              "LogisticRegression(C=8)"
            ]
          },
          "metadata": {
            "tags": []
          },
          "execution_count": 66
        }
      ]
    },
    {
      "cell_type": "markdown",
      "metadata": {
        "id": "R3ZJfpxZbC5K"
      },
      "source": [
        "<h5>Predict</h5>"
      ]
    },
    {
      "cell_type": "code",
      "metadata": {
        "id": "NJip9gXRbC5K"
      },
      "source": [
        "y_test_predict=classifier.predict(x_test)"
      ],
      "execution_count": null,
      "outputs": []
    },
    {
      "cell_type": "code",
      "metadata": {
        "id": "yoji-oXubC5L"
      },
      "source": [
        "temp_data=pd.DataFrame({'y_test':y_test,'y_test_pred':y_test_predict})"
      ],
      "execution_count": null,
      "outputs": []
    },
    {
      "cell_type": "code",
      "metadata": {
        "id": "BTkkFgFSbC5L",
        "outputId": "cf8001f9-a3d2-431d-b9b2-94a9d6f4a98f"
      },
      "source": [
        "temp_data.head()"
      ],
      "execution_count": null,
      "outputs": [
        {
          "output_type": "execute_result",
          "data": {
            "text/html": [
              "<div>\n",
              "<style scoped>\n",
              "    .dataframe tbody tr th:only-of-type {\n",
              "        vertical-align: middle;\n",
              "    }\n",
              "\n",
              "    .dataframe tbody tr th {\n",
              "        vertical-align: top;\n",
              "    }\n",
              "\n",
              "    .dataframe thead th {\n",
              "        text-align: right;\n",
              "    }\n",
              "</style>\n",
              "<table border=\"1\" class=\"dataframe\">\n",
              "  <thead>\n",
              "    <tr style=\"text-align: right;\">\n",
              "      <th></th>\n",
              "      <th>y_test</th>\n",
              "      <th>y_test_pred</th>\n",
              "    </tr>\n",
              "  </thead>\n",
              "  <tbody>\n",
              "    <tr>\n",
              "      <th>1161</th>\n",
              "      <td>0</td>\n",
              "      <td>0</td>\n",
              "    </tr>\n",
              "    <tr>\n",
              "      <th>1993</th>\n",
              "      <td>0</td>\n",
              "      <td>0</td>\n",
              "    </tr>\n",
              "    <tr>\n",
              "      <th>148</th>\n",
              "      <td>1</td>\n",
              "      <td>0</td>\n",
              "    </tr>\n",
              "    <tr>\n",
              "      <th>776</th>\n",
              "      <td>1</td>\n",
              "      <td>1</td>\n",
              "    </tr>\n",
              "    <tr>\n",
              "      <th>2124</th>\n",
              "      <td>0</td>\n",
              "      <td>0</td>\n",
              "    </tr>\n",
              "  </tbody>\n",
              "</table>\n",
              "</div>"
            ],
            "text/plain": [
              "      y_test  y_test_pred\n",
              "1161       0            0\n",
              "1993       0            0\n",
              "148        1            0\n",
              "776        1            1\n",
              "2124       0            0"
            ]
          },
          "metadata": {
            "tags": []
          },
          "execution_count": 69
        }
      ]
    },
    {
      "cell_type": "markdown",
      "metadata": {
        "id": "GvNKoLd2bC5L"
      },
      "source": [
        "# using accuracy,confusion matrix,recall,precision,f1score,ROC-AUC curve"
      ]
    },
    {
      "cell_type": "code",
      "metadata": {
        "id": "XWGUoFjGbC5L",
        "outputId": "bde07c0e-4405-4f36-ddb6-7629e11af251"
      },
      "source": [
        "from sklearn import metrics\n",
        "print(metrics.accuracy_score(y_test, y_test_predict))\n",
        "print(metrics.precision_score(y_test,y_test_predict))\n",
        "print(metrics.roc_auc_score(y_test,y_test_predict))\n",
        "print(metrics.f1_score(y_test,y_test_predict))\n",
        "print(metrics.recall_score(y_test,y_test_predict))"
      ],
      "execution_count": null,
      "outputs": [
        {
          "output_type": "stream",
          "text": [
            "0.7331838565022422\n",
            "0.967032967032967\n",
            "0.709487927402366\n",
            "0.5966101694915255\n",
            "0.43137254901960786\n"
          ],
          "name": "stdout"
        }
      ]
    },
    {
      "cell_type": "code",
      "metadata": {
        "id": "Xo7xIW0MbC5M",
        "outputId": "b769ff1a-08b3-4b95-dc5a-5e354ee574a9"
      },
      "source": [
        "con_metric = metrics.confusion_matrix(y_test, y_test_predict)\n",
        "con_metric"
      ],
      "execution_count": null,
      "outputs": [
        {
          "output_type": "execute_result",
          "data": {
            "text/plain": [
              "array([[239,   3],\n",
              "       [116,  88]], dtype=int64)"
            ]
          },
          "metadata": {
            "tags": []
          },
          "execution_count": 32
        }
      ]
    },
    {
      "cell_type": "code",
      "metadata": {
        "id": "UYRCWOlcbC5M",
        "outputId": "1d4458bf-bc8b-49b2-ad36-35aa7dbed59e"
      },
      "source": [
        "import seaborn as sns\n",
        "import matplotlib.pyplot as plt\n",
        "sns.heatmap(con_metric, annot=True, fmt='d')\n",
        "plt.title(\"Confusion Matrix\")\n",
        "plt.show()"
      ],
      "execution_count": null,
      "outputs": [
        {
          "output_type": "display_data",
          "data": {
            "image/png": "[encoded data removed]",
            "text/plain": [
              "<Figure size 432x288 with 2 Axes>"
            ]
          },
          "metadata": {
            "tags": [],
            "needs_background": "light"
          }
        }
      ]
    },
    {
      "cell_type": "markdown",
      "metadata": {
        "id": "bKT11lZ2bC5M"
      },
      "source": [
        "# Checking the KNN model"
      ]
    },
    {
      "cell_type": "markdown",
      "metadata": {
        "id": "_26yXjwvbC5M"
      },
      "source": [
        "<h5>Hyper-parameter tuning</h5>"
      ]
    },
    {
      "cell_type": "code",
      "metadata": {
        "id": "AUNziVnsbC5M"
      },
      "source": [
        "# Necessary imports \n",
        "from scipy.stats import randint \n",
        "from sklearn.neighbors import KNeighborsClassifier\n",
        "from sklearn.model_selection import RandomizedSearchCV"
      ],
      "execution_count": null,
      "outputs": []
    },
    {
      "cell_type": "code",
      "metadata": {
        "id": "Pp2xKEebbC5N",
        "outputId": "6b995c67-862e-4c45-cdc9-2ad2e4d2e99b"
      },
      "source": [
        "tuned_parameters = [{'n_neighbors':[1, 2, 3, 4, 5,6,7,8,9,10], 'p':[1, 2, 3]}]\n",
        "acc = ['accuracy','precision','recall']                    \n",
        "for i in acc: \n",
        "    clf = RandomizedSearchCV(\n",
        "        KNeighborsClassifier(), tuned_parameters, scoring='{}'.format(i))\n",
        "    clf.fit(x_train, y_train)\n",
        "\n",
        "    print(\"Best parameters set found on train set:\")\n",
        "    print('for {}'.format(i))\n",
        "    print(clf.best_params_)\n",
        "    print(clf.best_estimator_)\n",
        "    print(clf.score(x_test, y_test))"
      ],
      "execution_count": null,
      "outputs": [
        {
          "output_type": "stream",
          "text": [
            "Best parameters set found on train set:\n",
            "for accuracy\n",
            "{'p': 1, 'n_neighbors': 9}\n",
            "KNeighborsClassifier(n_neighbors=9, p=1)\n",
            "0.9618834080717489\n",
            "Best parameters set found on train set:\n",
            "for precision\n",
            "{'p': 3, 'n_neighbors': 8}\n",
            "KNeighborsClassifier(n_neighbors=8, p=3)\n",
            "0.9792746113989638\n",
            "Best parameters set found on train set:\n",
            "for recall\n",
            "{'p': 2, 'n_neighbors': 7}\n",
            "KNeighborsClassifier(n_neighbors=7)\n",
            "0.9264705882352942\n"
          ],
          "name": "stdout"
        }
      ]
    },
    {
      "cell_type": "markdown",
      "metadata": {
        "id": "ZioyNrKabC5N"
      },
      "source": [
        "<h5>Training the model </h5>"
      ]
    },
    {
      "cell_type": "code",
      "metadata": {
        "id": "aKT2tmvVbC5N",
        "outputId": "dd54a83d-4fc9-4493-90d4-a1f3833e4991"
      },
      "source": [
        "classifier = KNeighborsClassifier(n_neighbors=4,p=1)\n",
        "classifier.fit(x_train, y_train)"
      ],
      "execution_count": null,
      "outputs": [
        {
          "output_type": "execute_result",
          "data": {
            "text/plain": [
              "KNeighborsClassifier(n_neighbors=4, p=1)"
            ]
          },
          "metadata": {
            "tags": []
          },
          "execution_count": 36
        }
      ]
    },
    {
      "cell_type": "markdown",
      "metadata": {
        "id": "tUw2LazjbC5N"
      },
      "source": [
        "<h5>Predict</h5>"
      ]
    },
    {
      "cell_type": "code",
      "metadata": {
        "id": "TPe-RVSGbC5O"
      },
      "source": [
        "y_test_predict=classifier.predict(x_test)"
      ],
      "execution_count": null,
      "outputs": []
    },
    {
      "cell_type": "code",
      "metadata": {
        "id": "DUJr7GVmbC5O"
      },
      "source": [
        "temp_data=pd.DataFrame({'y_test':y_test,'y_test_pred':y_test_predict})"
      ],
      "execution_count": null,
      "outputs": []
    },
    {
      "cell_type": "code",
      "metadata": {
        "id": "DLy4CPlMbC5O",
        "outputId": "fc081efd-f366-4fa9-b597-672debdef365"
      },
      "source": [
        "temp_data.head()"
      ],
      "execution_count": null,
      "outputs": [
        {
          "output_type": "execute_result",
          "data": {
            "text/html": [
              "<div>\n",
              "<style scoped>\n",
              "    .dataframe tbody tr th:only-of-type {\n",
              "        vertical-align: middle;\n",
              "    }\n",
              "\n",
              "    .dataframe tbody tr th {\n",
              "        vertical-align: top;\n",
              "    }\n",
              "\n",
              "    .dataframe thead th {\n",
              "        text-align: right;\n",
              "    }\n",
              "</style>\n",
              "<table border=\"1\" class=\"dataframe\">\n",
              "  <thead>\n",
              "    <tr style=\"text-align: right;\">\n",
              "      <th></th>\n",
              "      <th>y_test</th>\n",
              "      <th>y_test_pred</th>\n",
              "    </tr>\n",
              "  </thead>\n",
              "  <tbody>\n",
              "    <tr>\n",
              "      <th>1161</th>\n",
              "      <td>0</td>\n",
              "      <td>0</td>\n",
              "    </tr>\n",
              "    <tr>\n",
              "      <th>1993</th>\n",
              "      <td>0</td>\n",
              "      <td>0</td>\n",
              "    </tr>\n",
              "    <tr>\n",
              "      <th>148</th>\n",
              "      <td>1</td>\n",
              "      <td>0</td>\n",
              "    </tr>\n",
              "    <tr>\n",
              "      <th>776</th>\n",
              "      <td>1</td>\n",
              "      <td>1</td>\n",
              "    </tr>\n",
              "    <tr>\n",
              "      <th>2124</th>\n",
              "      <td>0</td>\n",
              "      <td>0</td>\n",
              "    </tr>\n",
              "  </tbody>\n",
              "</table>\n",
              "</div>"
            ],
            "text/plain": [
              "      y_test  y_test_pred\n",
              "1161       0            0\n",
              "1993       0            0\n",
              "148        1            0\n",
              "776        1            1\n",
              "2124       0            0"
            ]
          },
          "metadata": {
            "tags": []
          },
          "execution_count": 39
        }
      ]
    },
    {
      "cell_type": "markdown",
      "metadata": {
        "id": "9aq48Dj-bC5O"
      },
      "source": [
        "# using accuracy,confusion matrix,recall,precision,f1score,ROC-AUC curve\n"
      ]
    },
    {
      "cell_type": "code",
      "metadata": {
        "id": "lRV6SmcBbC5O",
        "outputId": "29058732-0f29-4f55-ed15-26abda8747ef"
      },
      "source": [
        "from sklearn import metrics\n",
        "print(metrics.accuracy_score(y_test, y_test_predict))\n",
        "print(metrics.precision_score(y_test,y_test_predict))\n",
        "print(metrics.roc_auc_score(y_test,y_test_predict))\n",
        "print(metrics.f1_score(y_test,y_test_predict))\n",
        "print(metrics.recall_score(y_test,y_test_predict))"
      ],
      "execution_count": null,
      "outputs": [
        {
          "output_type": "stream",
          "text": [
            "0.9506726457399103\n",
            "0.9739583333333334\n",
            "0.9480027548209365\n",
            "0.9444444444444444\n",
            "0.9166666666666666\n"
          ],
          "name": "stdout"
        }
      ]
    },
    {
      "cell_type": "code",
      "metadata": {
        "id": "joFV_uYGbC5P",
        "outputId": "6b6b2031-07c2-4c75-9c92-18414a9928d8"
      },
      "source": [
        "con_metric = metrics.confusion_matrix(y_test, y_test_predict)\n",
        "con_metric"
      ],
      "execution_count": null,
      "outputs": [
        {
          "output_type": "execute_result",
          "data": {
            "text/plain": [
              "array([[237,   5],\n",
              "       [ 17, 187]], dtype=int64)"
            ]
          },
          "metadata": {
            "tags": []
          },
          "execution_count": 41
        }
      ]
    },
    {
      "cell_type": "code",
      "metadata": {
        "id": "rKpiTGfpbC5P",
        "outputId": "71304128-acb1-443b-b408-ac60f95a8a74"
      },
      "source": [
        "import seaborn as sns\n",
        "import matplotlib.pyplot as plt\n",
        "sns.heatmap(con_metric, annot=True, fmt='d')\n",
        "plt.title(\"Confusion Matrix\")\n",
        "plt.show()"
      ],
      "execution_count": null,
      "outputs": [
        {
          "output_type": "display_data",
          "data": {
            "image/png": "[encoded data removed]",
            "text/plain": [
              "<Figure size 432x288 with 2 Axes>"
            ]
          },
          "metadata": {
            "tags": [],
            "needs_background": "light"
          }
        }
      ]
    },
    {
      "cell_type": "markdown",
      "metadata": {
        "id": "cfCQyTc8bC5P"
      },
      "source": [
        "# Checking the DECISION TREE model"
      ]
    },
    {
      "cell_type": "markdown",
      "metadata": {
        "id": "EHrGzVc0bC5P"
      },
      "source": [
        "<h5>Hyper-parameter tuning</h5>"
      ]
    },
    {
      "cell_type": "code",
      "metadata": {
        "id": "GBazbwt5bC5P"
      },
      "source": [
        "# Necessary imports \n",
        "from scipy.stats import randint \n",
        "from sklearn.tree import DecisionTreeClassifier \n",
        "from sklearn.model_selection import RandomizedSearchCV"
      ],
      "execution_count": null,
      "outputs": []
    },
    {
      "cell_type": "code",
      "metadata": {
        "id": "bXBz6T8zbC5Q",
        "outputId": "e7b0023f-b6ee-4b80-8145-67b75900270d"
      },
      "source": [
        "# Creating the hyperparameter grid  \n",
        "evaluation_metric=['accuracy','precision']\n",
        "param_dist = {\"max_depth\": [3, None], \n",
        "              \"max_features\": randint(1, 9), \n",
        "              \"min_samples_leaf\": randint(1, 9), \n",
        "              \"criterion\": [\"gini\", \"entropy\"]} \n",
        "# Instantiating Decision Tree classifier \n",
        "tree = DecisionTreeClassifier() \n",
        "# Instantiating RandomizedSearchCV object\n",
        "for i in evaluation_metric:\n",
        "  tree_cv = RandomizedSearchCV(tree, param_dist, cv = 5,scoring='{}'.format(i))\n",
        "  print('for {}'.format(i))\n",
        "  tree_cv.fit(x_train, y_train) \n",
        "# Print the tuned parameters and score \n",
        "  print(\"Tuned Decision Tree Parameters: {}\".format(tree_cv.best_params_)) \n",
        "  print(\"Best score is {}\".format(tree_cv.best_score_))"
      ],
      "execution_count": null,
      "outputs": [
        {
          "output_type": "stream",
          "text": [
            "for accuracy\n",
            "Tuned Decision Tree Parameters: {'criterion': 'entropy', 'max_depth': None, 'max_features': 2, 'min_samples_leaf': 6}\n",
            "Best score is 0.9382321467913007\n",
            "for precision\n",
            "Tuned Decision Tree Parameters: {'criterion': 'entropy', 'max_depth': None, 'max_features': 2, 'min_samples_leaf': 6}\n",
            "Best score is 0.9411645884867148\n"
          ],
          "name": "stdout"
        }
      ]
    },
    {
      "cell_type": "markdown",
      "metadata": {
        "id": "isEvEEDFbC5R"
      },
      "source": [
        "<h5>Training the model</h5>"
      ]
    },
    {
      "cell_type": "code",
      "metadata": {
        "id": "-4HLEodybC5R",
        "outputId": "4641cc02-a0c3-4c2e-86e4-028528af50ce"
      },
      "source": [
        "classifier=DecisionTreeClassifier(criterion='entropy',max_depth=None,max_features=2,min_samples_leaf=7)\n",
        "classifier.fit(x_train,y_train)"
      ],
      "execution_count": null,
      "outputs": [
        {
          "output_type": "execute_result",
          "data": {
            "text/plain": [
              "DecisionTreeClassifier(criterion='entropy', max_features=2, min_samples_leaf=7)"
            ]
          },
          "metadata": {
            "tags": []
          },
          "execution_count": 45
        }
      ]
    },
    {
      "cell_type": "markdown",
      "metadata": {
        "id": "z9tfxpSNbC5R"
      },
      "source": [
        "<h5>Predict</h5>"
      ]
    },
    {
      "cell_type": "code",
      "metadata": {
        "id": "NMnb5JbnbC5R"
      },
      "source": [
        "y_test_predict=classifier.predict(x_test)"
      ],
      "execution_count": null,
      "outputs": []
    },
    {
      "cell_type": "code",
      "metadata": {
        "id": "pw0IiKH-bC5S"
      },
      "source": [
        "temp_data=pd.DataFrame({'y_test':y_test,'y_test_pred':y_test_predict})"
      ],
      "execution_count": null,
      "outputs": []
    },
    {
      "cell_type": "code",
      "metadata": {
        "id": "HlzDjuIqbC5S",
        "outputId": "fed5295b-271f-4e46-927f-56873fe277be"
      },
      "source": [
        "temp_data.head()"
      ],
      "execution_count": null,
      "outputs": [
        {
          "output_type": "execute_result",
          "data": {
            "text/html": [
              "<div>\n",
              "<style scoped>\n",
              "    .dataframe tbody tr th:only-of-type {\n",
              "        vertical-align: middle;\n",
              "    }\n",
              "\n",
              "    .dataframe tbody tr th {\n",
              "        vertical-align: top;\n",
              "    }\n",
              "\n",
              "    .dataframe thead th {\n",
              "        text-align: right;\n",
              "    }\n",
              "</style>\n",
              "<table border=\"1\" class=\"dataframe\">\n",
              "  <thead>\n",
              "    <tr style=\"text-align: right;\">\n",
              "      <th></th>\n",
              "      <th>y_test</th>\n",
              "      <th>y_test_pred</th>\n",
              "    </tr>\n",
              "  </thead>\n",
              "  <tbody>\n",
              "    <tr>\n",
              "      <th>1161</th>\n",
              "      <td>0</td>\n",
              "      <td>0</td>\n",
              "    </tr>\n",
              "    <tr>\n",
              "      <th>1993</th>\n",
              "      <td>0</td>\n",
              "      <td>0</td>\n",
              "    </tr>\n",
              "    <tr>\n",
              "      <th>148</th>\n",
              "      <td>1</td>\n",
              "      <td>0</td>\n",
              "    </tr>\n",
              "    <tr>\n",
              "      <th>776</th>\n",
              "      <td>1</td>\n",
              "      <td>1</td>\n",
              "    </tr>\n",
              "    <tr>\n",
              "      <th>2124</th>\n",
              "      <td>0</td>\n",
              "      <td>0</td>\n",
              "    </tr>\n",
              "  </tbody>\n",
              "</table>\n",
              "</div>"
            ],
            "text/plain": [
              "      y_test  y_test_pred\n",
              "1161       0            0\n",
              "1993       0            0\n",
              "148        1            0\n",
              "776        1            1\n",
              "2124       0            0"
            ]
          },
          "metadata": {
            "tags": []
          },
          "execution_count": 48
        }
      ]
    },
    {
      "cell_type": "markdown",
      "metadata": {
        "id": "wOQYT3LVbC5S"
      },
      "source": [
        "# ***using accuracy,confusion matrix,recall,precision,f1score,ROC-AUC curve***"
      ]
    },
    {
      "cell_type": "code",
      "metadata": {
        "id": "7TWthyizbC5T",
        "outputId": "d923690a-19e8-4e55-cfee-a1e002e4ff13"
      },
      "source": [
        "from sklearn import metrics\n",
        "print(metrics.accuracy_score(y_test, y_test_predict))\n",
        "print(metrics.precision_score(y_test,y_test_predict))\n",
        "print(metrics.roc_auc_score(y_test,y_test_predict))\n",
        "print(metrics.f1_score(y_test,y_test_predict))\n",
        "print(metrics.recall_score(y_test,y_test_predict))"
      ],
      "execution_count": null,
      "outputs": [
        {
          "output_type": "stream",
          "text": [
            "0.9484304932735426\n",
            "0.9414634146341463\n",
            "0.9482458272565224\n",
            "0.9437652811735942\n",
            "0.946078431372549\n"
          ],
          "name": "stdout"
        }
      ]
    },
    {
      "cell_type": "code",
      "metadata": {
        "id": "VT-_glo4bC5T",
        "outputId": "6211245d-c448-4d3a-8ba1-a469aaf3d69b"
      },
      "source": [
        "con_metric = metrics.confusion_matrix(y_test, y_test_predict)\n",
        "con_metric"
      ],
      "execution_count": null,
      "outputs": [
        {
          "output_type": "execute_result",
          "data": {
            "text/plain": [
              "array([[230,  12],\n",
              "       [ 11, 193]], dtype=int64)"
            ]
          },
          "metadata": {
            "tags": []
          },
          "execution_count": 50
        }
      ]
    },
    {
      "cell_type": "code",
      "metadata": {
        "id": "iABrv49_bC5T",
        "outputId": "435ecf7b-49c5-4fdb-a73a-f68ae7be0596"
      },
      "source": [
        "import seaborn as sns\n",
        "import matplotlib.pyplot as plt\n",
        "sns.heatmap(con_metric, annot=True, fmt='d')\n",
        "plt.title(\"Confusion Matrix\")\n",
        "plt.show()"
      ],
      "execution_count": null,
      "outputs": [
        {
          "output_type": "display_data",
          "data": {
            "image/png": "[encoded data removed]",
            "text/plain": [
              "<Figure size 432x288 with 2 Axes>"
            ]
          },
          "metadata": {
            "tags": [],
            "needs_background": "light"
          }
        }
      ]
    },
    {
      "cell_type": "markdown",
      "metadata": {
        "id": "M6ahWdMebC5U"
      },
      "source": [
        "# Checking the 'SVM'"
      ]
    },
    {
      "cell_type": "markdown",
      "metadata": {
        "id": "Gma88LeUbC5U"
      },
      "source": [
        "<h5>Hyper-parameter tuning</h5>"
      ]
    },
    {
      "cell_type": "code",
      "metadata": {
        "id": "k0kipwj-bC5U"
      },
      "source": [
        "from sklearn.svm import SVC\n",
        "from sklearn.model_selection import RandomizedSearchCV"
      ],
      "execution_count": null,
      "outputs": []
    },
    {
      "cell_type": "code",
      "metadata": {
        "id": "R0S9wg7vbC5U",
        "outputId": "1201d06b-73c6-4f9e-8109-45ee60d9e4ba"
      },
      "source": [
        "evaluation_metric=['accuracy']\n",
        "tuned_parameters = [{'kernel': ['rbf'], 'gamma': np.random.rand(3) , 'C': [1, 10, 100, 1000]},\n",
        "                    {'kernel': ['linear'], 'C': [1, 10, 100, 1000]}]\n",
        "\n",
        "for i in evaluation_metric:\n",
        "    clf = RandomizedSearchCV(SVC(), tuned_parameters, scoring='{}'.format(i))\n",
        "    clf.fit(x_train, y_train)\n",
        "    print(\"Best parameters set found on train set:\")\n",
        "    print('for {}'.format(i))\n",
        "    print(clf.best_params_)\n",
        "    print(clf.best_estimator_)\n",
        "    print()\n",
        "    print(clf.score(x_test, y_test))"
      ],
      "execution_count": null,
      "outputs": [
        {
          "output_type": "stream",
          "text": [
            "Best parameters set found on train set:\n",
            "for accuracy\n",
            "{'kernel': 'rbf', 'gamma': 0.4008588856248989, 'C': 100}\n",
            "SVC(C=100, gamma=0.4008588856248989)\n",
            "\n",
            "0.952914798206278\n"
          ],
          "name": "stdout"
        }
      ]
    },
    {
      "cell_type": "markdown",
      "metadata": {
        "id": "3r1uYIYnbC5U"
      },
      "source": [
        "<h5>Training the model with kernel-RBF </h5>"
      ]
    },
    {
      "cell_type": "code",
      "metadata": {
        "id": "leY0lBJKbC5U",
        "outputId": "16f41c31-d81f-41a8-a037-df2c99f6e89f"
      },
      "source": [
        "clf = SVC(kernel='rbf',C=1000)  \n",
        "clf.fit(x_train,y_train)"
      ],
      "execution_count": null,
      "outputs": [
        {
          "output_type": "execute_result",
          "data": {
            "text/plain": [
              "SVC(C=1000)"
            ]
          },
          "metadata": {
            "tags": []
          },
          "execution_count": 54
        }
      ]
    },
    {
      "cell_type": "markdown",
      "metadata": {
        "id": "uxjGw0tSbC5V"
      },
      "source": [
        "<h5>Predict</h5>"
      ]
    },
    {
      "cell_type": "code",
      "metadata": {
        "id": "BsNwn0HNbC5V"
      },
      "source": [
        "y_test_predict=clf.predict(x_test)"
      ],
      "execution_count": null,
      "outputs": []
    },
    {
      "cell_type": "code",
      "metadata": {
        "id": "Uq_i7nC6bC5V"
      },
      "source": [
        "temp_data=pd.DataFrame({'y_test':y_test,'y_test_pred':y_test_predict})"
      ],
      "execution_count": null,
      "outputs": []
    },
    {
      "cell_type": "code",
      "metadata": {
        "id": "6TUvF5f5bC5V",
        "outputId": "8b5be7b5-91ae-4dd0-896d-cbd11414e745"
      },
      "source": [
        "temp_data.head()"
      ],
      "execution_count": null,
      "outputs": [
        {
          "output_type": "execute_result",
          "data": {
            "text/html": [
              "<div>\n",
              "<style scoped>\n",
              "    .dataframe tbody tr th:only-of-type {\n",
              "        vertical-align: middle;\n",
              "    }\n",
              "\n",
              "    .dataframe tbody tr th {\n",
              "        vertical-align: top;\n",
              "    }\n",
              "\n",
              "    .dataframe thead th {\n",
              "        text-align: right;\n",
              "    }\n",
              "</style>\n",
              "<table border=\"1\" class=\"dataframe\">\n",
              "  <thead>\n",
              "    <tr style=\"text-align: right;\">\n",
              "      <th></th>\n",
              "      <th>y_test</th>\n",
              "      <th>y_test_pred</th>\n",
              "    </tr>\n",
              "  </thead>\n",
              "  <tbody>\n",
              "    <tr>\n",
              "      <th>1161</th>\n",
              "      <td>0</td>\n",
              "      <td>0</td>\n",
              "    </tr>\n",
              "    <tr>\n",
              "      <th>1993</th>\n",
              "      <td>0</td>\n",
              "      <td>0</td>\n",
              "    </tr>\n",
              "    <tr>\n",
              "      <th>148</th>\n",
              "      <td>1</td>\n",
              "      <td>0</td>\n",
              "    </tr>\n",
              "    <tr>\n",
              "      <th>776</th>\n",
              "      <td>1</td>\n",
              "      <td>1</td>\n",
              "    </tr>\n",
              "    <tr>\n",
              "      <th>2124</th>\n",
              "      <td>0</td>\n",
              "      <td>0</td>\n",
              "    </tr>\n",
              "  </tbody>\n",
              "</table>\n",
              "</div>"
            ],
            "text/plain": [
              "      y_test  y_test_pred\n",
              "1161       0            0\n",
              "1993       0            0\n",
              "148        1            0\n",
              "776        1            1\n",
              "2124       0            0"
            ]
          },
          "metadata": {
            "tags": []
          },
          "execution_count": 57
        }
      ]
    },
    {
      "cell_type": "markdown",
      "metadata": {
        "id": "3XOB3f2LbC5V"
      },
      "source": [
        "# using accuracy,confusion matrix,recall,precision,f1score,ROC-AUC curve"
      ]
    },
    {
      "cell_type": "code",
      "metadata": {
        "id": "XVltP2mvbC5W",
        "outputId": "7dc7347d-eb80-4f70-f03a-19d888f12cae"
      },
      "source": [
        "from sklearn import metrics\n",
        "print(metrics.accuracy_score(y_test, y_test_predict))\n",
        "print(metrics.precision_score(y_test,y_test_predict))\n",
        "print(metrics.roc_auc_score(y_test,y_test_predict))\n",
        "print(metrics.f1_score(y_test,y_test_predict))\n",
        "print(metrics.recall_score(y_test,y_test_predict))"
      ],
      "execution_count": null,
      "outputs": [
        {
          "output_type": "stream",
          "text": [
            "0.9506726457399103\n",
            "0.955\n",
            "0.9495422135796467\n",
            "0.9455445544554456\n",
            "0.9362745098039216\n"
          ],
          "name": "stdout"
        }
      ]
    },
    {
      "cell_type": "code",
      "metadata": {
        "id": "1ZCm4Pg5bC5W",
        "outputId": "9b033d49-237b-45f1-9fe4-c27c8d43ec84"
      },
      "source": [
        "from sklearn.metrics import classification_report, confusion_matrix\n",
        "print(confusion_matrix(y_test, y_test_predict))\n",
        "print(classification_report(y_test, y_test_predict))"
      ],
      "execution_count": null,
      "outputs": [
        {
          "output_type": "stream",
          "text": [
            "[[233   9]\n",
            " [ 13 191]]\n",
            "              precision    recall  f1-score   support\n",
            "\n",
            "           0       0.95      0.96      0.95       242\n",
            "           1       0.95      0.94      0.95       204\n",
            "\n",
            "    accuracy                           0.95       446\n",
            "   macro avg       0.95      0.95      0.95       446\n",
            "weighted avg       0.95      0.95      0.95       446\n",
            "\n"
          ],
          "name": "stdout"
        }
      ]
    },
    {
      "cell_type": "code",
      "metadata": {
        "id": "xqsID2r5bC5W",
        "outputId": "4113bfe6-dc2e-43d5-bbee-8d7f1a8aec26"
      },
      "source": [
        "con_metric = metrics.confusion_matrix(y_test, y_test_predict)\n",
        "con_metric"
      ],
      "execution_count": null,
      "outputs": [
        {
          "output_type": "execute_result",
          "data": {
            "text/plain": [
              "array([[239,   3],\n",
              "       [116,  88]], dtype=int64)"
            ]
          },
          "metadata": {
            "tags": []
          },
          "execution_count": 71
        }
      ]
    },
    {
      "cell_type": "code",
      "metadata": {
        "id": "dc8AfDBsbC5X",
        "outputId": "c10216f7-b4d2-416b-d74c-281bbd8bd434"
      },
      "source": [
        "import seaborn as sns\n",
        "import matplotlib.pyplot as plt\n",
        "sns.heatmap(con_metric, annot=True, fmt='d')\n",
        "plt.title(\"Confusion Matrix\")\n",
        "plt.show()"
      ],
      "execution_count": null,
      "outputs": [
        {
          "output_type": "display_data",
          "data": {
            "image/png": "[encoded data removed]",
            "text/plain": [
              "<Figure size 432x288 with 2 Axes>"
            ]
          },
          "metadata": {
            "tags": [],
            "needs_background": "light"
          }
        }
      ]
    },
    {
      "cell_type": "markdown",
      "metadata": {
        "id": "pfJsD7kbbC5X"
      },
      "source": [
        "<h5>Training the model with Kernel-Linear</h5>"
      ]
    },
    {
      "cell_type": "code",
      "metadata": {
        "id": "8aU2tM9LbC5X",
        "outputId": "5a355a8a-cb1a-4c56-b113-c5ecc8ec393b"
      },
      "source": [
        "clf = SVC(kernel='linear',C=1000)  \n",
        "clf.fit(x_train,y_train)"
      ],
      "execution_count": null,
      "outputs": [
        {
          "output_type": "execute_result",
          "data": {
            "text/plain": [
              "SVC(C=1000, kernel='linear')"
            ]
          },
          "metadata": {
            "tags": []
          },
          "execution_count": 60
        }
      ]
    },
    {
      "cell_type": "markdown",
      "metadata": {
        "id": "zEG957IZbC5Y"
      },
      "source": [
        "<h5>Predict</h5>"
      ]
    },
    {
      "cell_type": "code",
      "metadata": {
        "id": "euFEpMDKbC5Y"
      },
      "source": [
        "y_test_predict=clf.predict(x_test)"
      ],
      "execution_count": null,
      "outputs": []
    },
    {
      "cell_type": "code",
      "metadata": {
        "id": "F31IqYi4bC5Y"
      },
      "source": [
        "temp_data=pd.DataFrame({'y_test':y_test,'y_test_pred':y_test_predict})"
      ],
      "execution_count": null,
      "outputs": []
    },
    {
      "cell_type": "code",
      "metadata": {
        "id": "H7a-tKeGbC5Y",
        "outputId": "fa5209e4-0b31-4df7-ff8b-1c72c238ece2"
      },
      "source": [
        "temp_data.head()"
      ],
      "execution_count": null,
      "outputs": [
        {
          "output_type": "execute_result",
          "data": {
            "text/html": [
              "<div>\n",
              "<style scoped>\n",
              "    .dataframe tbody tr th:only-of-type {\n",
              "        vertical-align: middle;\n",
              "    }\n",
              "\n",
              "    .dataframe tbody tr th {\n",
              "        vertical-align: top;\n",
              "    }\n",
              "\n",
              "    .dataframe thead th {\n",
              "        text-align: right;\n",
              "    }\n",
              "</style>\n",
              "<table border=\"1\" class=\"dataframe\">\n",
              "  <thead>\n",
              "    <tr style=\"text-align: right;\">\n",
              "      <th></th>\n",
              "      <th>y_test</th>\n",
              "      <th>y_test_pred</th>\n",
              "    </tr>\n",
              "  </thead>\n",
              "  <tbody>\n",
              "    <tr>\n",
              "      <th>1161</th>\n",
              "      <td>0</td>\n",
              "      <td>0</td>\n",
              "    </tr>\n",
              "    <tr>\n",
              "      <th>1993</th>\n",
              "      <td>0</td>\n",
              "      <td>0</td>\n",
              "    </tr>\n",
              "    <tr>\n",
              "      <th>148</th>\n",
              "      <td>1</td>\n",
              "      <td>0</td>\n",
              "    </tr>\n",
              "    <tr>\n",
              "      <th>776</th>\n",
              "      <td>1</td>\n",
              "      <td>1</td>\n",
              "    </tr>\n",
              "    <tr>\n",
              "      <th>2124</th>\n",
              "      <td>0</td>\n",
              "      <td>0</td>\n",
              "    </tr>\n",
              "  </tbody>\n",
              "</table>\n",
              "</div>"
            ],
            "text/plain": [
              "      y_test  y_test_pred\n",
              "1161       0            0\n",
              "1993       0            0\n",
              "148        1            0\n",
              "776        1            1\n",
              "2124       0            0"
            ]
          },
          "metadata": {
            "tags": []
          },
          "execution_count": 63
        }
      ]
    },
    {
      "cell_type": "markdown",
      "metadata": {
        "id": "fgrv_QJPbC5Y"
      },
      "source": [
        "# using accuracy,confusion matrix,recall,precision,f1score,ROC-AUC curve"
      ]
    },
    {
      "cell_type": "code",
      "metadata": {
        "id": "Khtrnq6zbC5Z",
        "outputId": "7dbbe4af-2f90-4bc9-bcb4-b496456e5dc5"
      },
      "source": [
        "from sklearn import metrics\n",
        "print(metrics.accuracy_score(y_test, y_test_predict))\n",
        "print(metrics.precision_score(y_test,y_test_predict))\n",
        "print(metrics.roc_auc_score(y_test,y_test_predict))\n",
        "print(metrics.f1_score(y_test,y_test_predict))\n",
        "print(metrics.recall_score(y_test,y_test_predict))"
      ],
      "execution_count": null,
      "outputs": [
        {
          "output_type": "stream",
          "text": [
            "0.7331838565022422\n",
            "0.967032967032967\n",
            "0.709487927402366\n",
            "0.5966101694915255\n",
            "0.43137254901960786\n"
          ],
          "name": "stdout"
        }
      ]
    },
    {
      "cell_type": "code",
      "metadata": {
        "id": "maef7vM7bC5Z",
        "outputId": "785a3d57-d12d-403b-9f48-6a740468803a"
      },
      "source": [
        "from sklearn.metrics import classification_report, confusion_matrix\n",
        "print(confusion_matrix(y_test, y_test_predict))\n",
        "print(classification_report(y_test, y_test_predict))"
      ],
      "execution_count": null,
      "outputs": [
        {
          "output_type": "stream",
          "text": [
            "[[239   3]\n",
            " [116  88]]\n",
            "              precision    recall  f1-score   support\n",
            "\n",
            "           0       0.67      0.99      0.80       242\n",
            "           1       0.97      0.43      0.60       204\n",
            "\n",
            "    accuracy                           0.73       446\n",
            "   macro avg       0.82      0.71      0.70       446\n",
            "weighted avg       0.81      0.73      0.71       446\n",
            "\n"
          ],
          "name": "stdout"
        }
      ]
    },
    {
      "cell_type": "code",
      "metadata": {
        "id": "KK2lSBANbC5Z",
        "outputId": "6c80dbf3-2602-4963-fccf-19234af27550"
      },
      "source": [
        "con_metric = metrics.confusion_matrix(y_test, y_test_predict)\n",
        "con_metric"
      ],
      "execution_count": null,
      "outputs": [
        {
          "output_type": "execute_result",
          "data": {
            "text/plain": [
              "array([[239,   3],\n",
              "       [116,  88]], dtype=int64)"
            ]
          },
          "metadata": {
            "tags": []
          },
          "execution_count": 76
        }
      ]
    },
    {
      "cell_type": "code",
      "metadata": {
        "id": "wagdtJW8bC5Z",
        "outputId": "59922123-9fd0-42b5-e8c5-4e9e320c3910"
      },
      "source": [
        "import seaborn as sns\n",
        "import matplotlib.pyplot as plt\n",
        "sns.heatmap(con_metric, annot=True, fmt='d')\n",
        "plt.title(\"Confusion Matrix\")\n",
        "plt.show()"
      ],
      "execution_count": null,
      "outputs": [
        {
          "output_type": "display_data",
          "data": {
            "image/png": "[encoded data removed]",
            "text/plain": [
              "<Figure size 432x288 with 2 Axes>"
            ]
          },
          "metadata": {
            "tags": [],
            "needs_background": "light"
          }
        }
      ]
    },
    {
      "cell_type": "markdown",
      "metadata": {
        "id": "Qgf9OlkfbC5Z"
      },
      "source": [
        "<h5>Conclusion</h5>"
      ]
    },
    {
      "cell_type": "markdown",
      "metadata": {
        "id": "piYPsT62bC5a"
      },
      "source": [
        "# After training the dataset with using the Machine Learning model's :\n",
        "Looking at the confusion matrix, I came to know that KNN-with 97 percent and DecisionTree-with 94 percent stands best models for the given dataset."
      ]
    },
    {
      "cell_type": "code",
      "metadata": {
        "id": "71k7mNh-dzIZ"
      },
      "source": [
        ""
      ],
      "execution_count": null,
      "outputs": []
    }
  ]
}